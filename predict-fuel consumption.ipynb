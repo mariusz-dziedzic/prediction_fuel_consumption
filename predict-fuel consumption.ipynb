{
 "cells": [
  {
   "cell_type": "code",
   "execution_count": 8,
   "id": "310910de",
   "metadata": {},
   "outputs": [
    {
     "data": {
      "text/html": [
       "<div>\n",
       "<style scoped>\n",
       "    .dataframe tbody tr th:only-of-type {\n",
       "        vertical-align: middle;\n",
       "    }\n",
       "\n",
       "    .dataframe tbody tr th {\n",
       "        vertical-align: top;\n",
       "    }\n",
       "\n",
       "    .dataframe thead th {\n",
       "        text-align: right;\n",
       "    }\n",
       "</style>\n",
       "<table border=\"1\" class=\"dataframe\">\n",
       "  <thead>\n",
       "    <tr style=\"text-align: right;\">\n",
       "      <th></th>\n",
       "      <th>l/100km</th>\n",
       "      <th>cylinders</th>\n",
       "      <th>horsepower</th>\n",
       "      <th>weight (kg)</th>\n",
       "      <th>acceleration (s)</th>\n",
       "    </tr>\n",
       "  </thead>\n",
       "  <tbody>\n",
       "    <tr>\n",
       "      <th>0</th>\n",
       "      <td>13.1</td>\n",
       "      <td>8</td>\n",
       "      <td>130</td>\n",
       "      <td>1589</td>\n",
       "      <td>12.0</td>\n",
       "    </tr>\n",
       "    <tr>\n",
       "      <th>1</th>\n",
       "      <td>15.7</td>\n",
       "      <td>8</td>\n",
       "      <td>165</td>\n",
       "      <td>1675</td>\n",
       "      <td>11.5</td>\n",
       "    </tr>\n",
       "    <tr>\n",
       "      <th>2</th>\n",
       "      <td>13.1</td>\n",
       "      <td>8</td>\n",
       "      <td>150</td>\n",
       "      <td>1559</td>\n",
       "      <td>11.0</td>\n",
       "    </tr>\n",
       "    <tr>\n",
       "      <th>3</th>\n",
       "      <td>14.7</td>\n",
       "      <td>8</td>\n",
       "      <td>150</td>\n",
       "      <td>1557</td>\n",
       "      <td>12.0</td>\n",
       "    </tr>\n",
       "    <tr>\n",
       "      <th>4</th>\n",
       "      <td>13.8</td>\n",
       "      <td>8</td>\n",
       "      <td>140</td>\n",
       "      <td>1564</td>\n",
       "      <td>10.5</td>\n",
       "    </tr>\n",
       "  </tbody>\n",
       "</table>\n",
       "</div>"
      ],
      "text/plain": [
       "   l/100km  cylinders  horsepower  weight (kg)  acceleration (s)\n",
       "0     13.1          8         130         1589              12.0\n",
       "1     15.7          8         165         1675              11.5\n",
       "2     13.1          8         150         1559              11.0\n",
       "3     14.7          8         150         1557              12.0\n",
       "4     13.8          8         140         1564              10.5"
      ]
     },
     "execution_count": 8,
     "metadata": {},
     "output_type": "execute_result"
    }
   ],
   "source": [
    "# Import libraries and upload data \n",
    "import pandas as pd\n",
    "import numpy as np\n",
    "import csv\n",
    "df = pd.read_csv('cars.csv')\n",
    "df.head()"
   ]
  },
  {
   "cell_type": "code",
   "execution_count": 9,
   "id": "590041bb",
   "metadata": {},
   "outputs": [],
   "source": [
    "# Model import Linear Regression \n",
    "from sklearn.linear_model import LinearRegression  \n",
    "\n",
    "# Load the function that divides the file into training and test data \n",
    "from sklearn.model_selection import train_test_split\n",
    "\n",
    "# Y is the variable that will be tested and predicted \n",
    "y = df.iloc[:, 0]\n",
    "# X is the variable that contains the data that will be used for prediction\n",
    "X = df.iloc[:,1:]\n",
    "\n",
    "# Division into a training set and a test set \n",
    "X_train, X_test, y_train, y_test = train_test_split(X, y, test_size = 0.2, random_state = 42)\n",
    "\n",
    "# Model building \n",
    "regressor = LinearRegression() \n",
    "\n",
    "# Model training\n",
    "regressor.fit(X_train, y_train) \n",
    "\n",
    "# Prediction based on the model\n",
    "y_pred = regressor.predict(X_test)"
   ]
  },
  {
   "cell_type": "code",
   "execution_count": 10,
   "id": "6305c65e",
   "metadata": {},
   "outputs": [
    {
     "name": "stdout",
     "output_type": "stream",
     "text": [
      "MAE:  1.1917581028709132\n"
     ]
    }
   ],
   "source": [
    "# Calculation of forecast accuracy measures \n",
    "from sklearn.metrics import mean_absolute_error\n",
    "from sklearn.metrics import mean_squared_error\n",
    "\n",
    "# Average forecast's distance from the true value\n",
    "print('MAE: ', mean_absolute_error(y_test, y_pred))"
   ]
  },
  {
   "cell_type": "code",
   "execution_count": 11,
   "id": "733670d2",
   "metadata": {},
   "outputs": [
    {
     "name": "stdout",
     "output_type": "stream",
     "text": [
      "Do you want to enter cars data? [Y/N]: y\n",
      "Enter the number of cylinders: 6\n",
      "Enter the number of horsepower: 320\n",
      "Enter the weight of the car:  1545\n",
      "Enter the acceleration, e.g. 7.8: 5.4\n",
      "X=[6, 320, 1545, 5.4], Predicted=20.1\n",
      "The estimated fuel consumption for this car is 20.1 l/100km\n",
      "Do you want to add the results to the database?  [Y/N]: y\n",
      "Do you want to enter cars data? [Y/N]: n\n"
     ]
    }
   ],
   "source": [
    "# New car prediction: \n",
    "#Heading:\n",
    "# cylinders, horsepower, weight, acceleration\n",
    "\n",
    "while True:\n",
    "    decision = input(\"Do you want to enter cars data? [Y/N]: \")\n",
    "    if decision not in [\"Y\", \"y\", \"yes\"]:\n",
    "        break\n",
    "    try:\n",
    "        cylinders = int(input(\"Enter the number of cylinders: \"))\n",
    "        horsepower = int(input(\"Enter the number of horsepower: \"))\n",
    "        weight = int(input(\"Enter the weight of the car:  \"))\n",
    "        acceleration = float(input(\"Enter the acceleration, e.g. 7.8: \"))\n",
    "\n",
    "        Xnew = [[cylinders, horsepower, weight, acceleration]]\n",
    "\n",
    "        # Make a prediction\n",
    "        ynew = regressor.predict(Xnew)\n",
    "        # Show the inputs and predicted outputs\n",
    "        y = round(ynew[0],1)\n",
    "        print(\"X=%s, Predicted=%s\" % (Xnew[0], y))\n",
    "        print(\"The estimated fuel consumption for this car is\", y, \"l/100km\")\n",
    "\n",
    "        add_decision = input(\"Do you want to add the results to the database?  [Y/N]: \")\n",
    "        if add_decision not in [\"Y\", \"y\", \"yes\"]:\n",
    "            break\n",
    "        try:\n",
    "            Xnew[0].insert(0,y)\n",
    "            with open(r'cars.csv', 'a') as f:\n",
    "                writer = csv.writer(f)\n",
    "                writer.writerow(Xnew[0])\n",
    "        except:\n",
    "            print(\"The entry could not be added to the database \")\n",
    "    except:\n",
    "        print(\"You only need to enter numeric values \")\n",
    "        print(\"Incorrect result \")"
   ]
  },
  {
   "cell_type": "code",
   "execution_count": null,
   "id": "31530fde",
   "metadata": {},
   "outputs": [],
   "source": []
  }
 ],
 "metadata": {
  "kernelspec": {
   "display_name": "Python 3",
   "language": "python",
   "name": "python3"
  },
  "language_info": {
   "codemirror_mode": {
    "name": "ipython",
    "version": 3
   },
   "file_extension": ".py",
   "mimetype": "text/x-python",
   "name": "python",
   "nbconvert_exporter": "python",
   "pygments_lexer": "ipython3",
   "version": "3.8.8"
  }
 },
 "nbformat": 4,
 "nbformat_minor": 5
}
